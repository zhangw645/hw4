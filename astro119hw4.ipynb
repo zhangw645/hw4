{
 "cells": [
  {
   "cell_type": "code",
   "execution_count": null,
   "metadata": {},
   "outputs": [],
   "source": [
    "import numpy as np\n",
    "import matplotlib.pyplot as plt"
   ]
  },
  {
   "cell_type": "code",
   "execution_count": null,
   "metadata": {},
   "outputs": [],
   "source": [
    "def function_for_roots(x):\n",
    "    a = 1.01\n",
    "    b = -3.04\n",
    "    c = 2.07\n",
    "    return a*x**2 + b*x + c "
   ]
  },
  {
   "cell_type": "code",
   "execution_count": null,
   "metadata": {},
   "outputs": [],
   "source": [
    "def check_initial_values(f, x_min, x_max, tol):\n",
    "    \n",
    "    #check initial guesses\n",
    "    y_min = f(x_min)\n",
    "    y_max = f(x_max)\n",
    "    \n",
    "    #check x min and max contian 0\n",
    "    if(y_min*y_max>=0.0):\n",
    "        print(\"no zero crossing found in the range = \",x_min,x_max)\n",
    "        s = \"f(%f) = %f, f(%f) = %f\" % (x_min,y_min,x_max,y_max)\n",
    "        print(s)\n",
    "        return 0\n",
    "    #if x min is a root, return flag = 1\n",
    "    if(np.fabs(y_min)<tol):\n",
    "        return 1\n",
    "    \n",
    "    #if x max is a root, return flag = 2\n",
    "    if(np.fabs(y_max)<tol):\n",
    "        return 2\n",
    "    \n",
    "    #if we reach this pointm the bracket is valid. return 3\n",
    "    return 3\n"
   ]
  },
  {
   "cell_type": "code",
   "execution_count": null,
   "metadata": {},
   "outputs": [],
   "source": [
    "def bisection_root_finding(f, x_min_start, x_max_start, tol):\n",
    "    \n",
    "    #bisection search\n",
    "    x_min = x_min_start\n",
    "    x_max = x_max_start\n",
    "    x_mid = 0.0\n",
    "    \n",
    "    y_min = f(x_min)\n",
    "    y_max = f(x_max)\n",
    "    y_mid = 0.0\n",
    "    \n",
    "    imax = 10000 #max number of iterations\n",
    "    i = 0     #iteration counter\n",
    "    \n",
    "    #check initial value\n",
    "    flag = check_initial_values(f,x_min,x_max.tol)\n",
    "    if(flag==0):\n",
    "        print(\"error in bisection root finding().\")\n",
    "        raise ValueError('initial values invaild',x_min,x_max)\n",
    "        elif(flag==1):\n",
    "            return x_min\n",
    "        elif(flag==2):\n",
    "            return x_max"
   ]
  },
  {
   "cell_type": "code",
   "execution_count": null,
   "metadata": {},
   "outputs": [],
   "source": [
    "#set a flag\n",
    "flag = 1\n",
    "#while loop\n",
    "while(flag): \n",
    "    x_mid = 0.5*(x_min+x_max)\n",
    "    y_mid = f(x_mid)\n",
    "    \n",
    "    #check if x mid is root\n",
    "    if(np.fabs(y_mid)<tol):\n",
    "        flag = 0\n",
    "    else:\n",
    "        if(f(x_min)*f(x_mid)>0):\n",
    "             x_min = x_mid\n",
    "        else:\n",
    "            x_max = x_mid\n",
    "                    \n",
    "    print(x_min,f(x_min),x_max,f(x_max))\n",
    "    \n",
    "        "
   ]
  },
  {
   "cell_type": "code",
   "execution_count": null,
   "metadata": {},
   "outputs": [],
   "source": [
    "#print out the iteration\n",
    "print(x_min,f(x_min),x_max,f(x_max))\n",
    "#count iterations\n",
    "i += 1\n",
    "\n",
    "if(i>=imax):\n",
    "    print(\"exceeded max number of iteration = \",i)\n",
    "    s = \"min bracket f(%f) = %f\" %(x_min,f(x_min))\n",
    "    print(s)\n",
    "    s = \"min bracket f(%f) = %f\" %(x_max,f(x_max))\n",
    "    print(s)\n",
    "    s = \"min bracket f(%f) = %f\" %(x_mid,f(x_mid))\n",
    "    print(s)\n",
    "    raise StopIteration('stopping iterations after ',i)\n",
    "    \n",
    "    return x_mid"
   ]
  }
 ],
 "metadata": {
  "kernelspec": {
   "display_name": "Python 3",
   "language": "python",
   "name": "python3"
  },
  "language_info": {
   "codemirror_mode": {
    "name": "ipython",
    "version": 3
   },
   "file_extension": ".py",
   "mimetype": "text/x-python",
   "name": "python",
   "nbconvert_exporter": "python",
   "pygments_lexer": "ipython3",
   "version": "3.8.5"
  }
 },
 "nbformat": 4,
 "nbformat_minor": 4
}
